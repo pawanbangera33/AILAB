{
 "cells": [
  {
   "cell_type": "code",
   "execution_count": 1,
   "id": "3004b119",
   "metadata": {},
   "outputs": [],
   "source": [
    "import pandas as pd\n",
    "import numpy as np"
   ]
  },
  {
   "cell_type": "code",
   "execution_count": 2,
   "id": "ac5efb86",
   "metadata": {},
   "outputs": [
    {
     "name": "stdout",
     "output_type": "stream",
     "text": [
      "   number       bins\n",
      "0      38   (20, 40]\n",
      "1      69   (60, 80]\n",
      "2      83  (80, 100]\n",
      "3      88  (80, 100]\n",
      "4      57   (40, 60]\n",
      "5      73   (60, 80]\n",
      "6      29   (20, 40]\n",
      "7      16    (1, 20]\n",
      "8      85  (80, 100]\n",
      "9      77   (60, 80]\n",
      "[(20, 40], (60, 80], (80, 100], (40, 60], (1, 20]]\n",
      "Categories (5, interval[int64, right]): [(1, 20] < (20, 40] < (40, 60] < (60, 80] < (80, 100]]\n"
     ]
    }
   ],
   "source": [
    "df = pd.DataFrame({'number':np.random.randint(1,100,10)})\n",
    "df['bins'] = pd.cut(x = df['number'],bins = [1,20,40,60,80,100])\n",
    "print(df)\n",
    "print(df['bins'].unique())"
   ]
  },
  {
   "cell_type": "code",
   "execution_count": null,
   "id": "955b297b",
   "metadata": {},
   "outputs": [],
   "source": []
  }
 ],
 "metadata": {
  "kernelspec": {
   "display_name": "Python 3 (ipykernel)",
   "language": "python",
   "name": "python3"
  },
  "language_info": {
   "codemirror_mode": {
    "name": "ipython",
    "version": 3
   },
   "file_extension": ".py",
   "mimetype": "text/x-python",
   "name": "python",
   "nbconvert_exporter": "python",
   "pygments_lexer": "ipython3",
   "version": "3.11.4"
  }
 },
 "nbformat": 4,
 "nbformat_minor": 5
}
